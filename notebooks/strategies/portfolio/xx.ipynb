{
 "cells": [
  {
   "cell_type": "code",
   "execution_count": 1,
   "metadata": {},
   "outputs": [],
   "source": [
    "import pandas as pd\n",
    "import yfinance as yf\n",
    "from concurrent.futures import ThreadPoolExecutor"
   ]
  },
  {
   "cell_type": "code",
   "execution_count": 2,
   "metadata": {},
   "outputs": [],
   "source": [
    "data = pd.read_csv(\"../../../data/nasdaqlisted.txt\", sep=\"|\")"
   ]
  },
  {
   "cell_type": "code",
   "execution_count": 3,
   "metadata": {},
   "outputs": [],
   "source": [
    "tickers = data[data[\"Market Category\"] == \"Q\"][\"Symbol\"].tolist()"
   ]
  },
  {
   "cell_type": "code",
   "execution_count": 7,
   "metadata": {},
   "outputs": [
    {
     "name": "stderr",
     "output_type": "stream",
     "text": [
      "[*********************100%%**********************]  1594 of 1594 completed\n",
      "\n",
      "1588 Failed downloads:\n",
      "['LYEL', 'PTLO', 'INSG', 'MRVI', 'CATY', 'CHTR', 'INNV', 'YMAB', 'EAR', 'TRIP', 'SWBI', 'GLPI', 'OLED', 'SND', 'AUROW', 'AAL', 'OKTA', 'MNMD', 'AGNCN', 'LUNG', 'MOLN', 'BPRN', 'MLYS', 'DLTR', 'XP', 'ROIC', 'MU', 'SWTX', 'LNW', 'GILT', 'LRFC', 'NTNX', 'COMM', 'VIRT', 'CIFR', 'ONBPO', 'FFIV', 'VYGR', 'BDTX', 'LASR', 'ATRA', 'TILE', 'ALVR', 'COCO', 'VLYPP', 'SIGI', 'NBTX', 'GEG', 'URBN', 'SNDX', 'JZ', 'PZZA', 'MGNI', 'INTR', 'YY', 'NRIM', 'RAIL', 'ACIW', 'CRVL', 'CSWC', 'FTAIM', 'APP', 'AOUT', 'SNPO', 'IBCP', 'PWP', 'MYNA', 'RRGB', 'FTRE', 'HOPE', 'HWCPZ', 'SRRK', 'MRSN', 'DRS', 'FANH', 'TRS', 'CZR', 'TLRY', 'AXNX', 'CMPR', 'NCMI', 'CRWD', 'SGHT', 'MATW', 'ENVX', 'TRMB', 'SIMO', 'MQ', 'PCTY', 'BRKL', 'EZPW', 'CPZ', 'FOXA', 'SATS', 'GT', 'GTX', 'FAST', 'VIR', 'HOFT', 'AY', 'IQ', 'UEIC', 'SRDX', 'VRTX', 'TIGR', 'PEGA', 'OB', 'PTEN', 'NVAX', 'BPYPN', 'KALU', 'YNDX', 'LYFT', 'BGFV', 'HYZNW', 'TER', 'CHW', 'CG', 'VERV', 'NFBK', 'CFFN', 'LNT', 'GAINL', 'SILC', 'HOWL', 'HTZWW', 'ADVWW', 'RXRX', 'UPST', 'AMSWA', 'HYZN', 'INBKZ', 'Z', 'CRNC', 'SLM', 'LILMW', 'TMCI', 'MIST', 'BOLT', 'CHY', 'ENSG', 'VOXX', 'CHSCN', 'KURA', 'RNW', 'LPLA', 'TRMD', 'HMST', 'SBRA', 'MFIC', 'FULT', 'PFMT', 'BLKB', 'FTAIP', 'FLEX', 'ADAP', 'RRR', 'BILI', 'CGNT', 'RDUS', 'BFST', 'GDRX', 'HCSG', 'AGYS', 'NDAQ', 'NXPI', 'UMBF', 'TMC', 'IPGP', 'SPTN', 'SLAB', 'SVA', 'CWST', 'HCAT', 'CAR', 'KLXE', 'HURC', 'MCHP', 'IPAR', 'AGNCP', 'ESLT', 'ASMB', 'EXTR', 'STOK', 'TRVG', 'FORTY', 'BPYPM', 'VREX', 'CVGI', 'ALNY', 'NTGR', 'CCCC', 'GASS', 'CEG', 'GBDC', 'AVIR', 'OLPX', 'ABCB', 'TSP', 'MXCT', 'FULTP', 'TTWO', 'BSET', 'MANH', 'SOND', 'FRME', 'RVMD', 'WTBA', 'SOVO', 'ATEC', 'HBNC', 'ITCI', 'FDMT', 'PSEC', 'DVAX', 'ROST', 'ATRI', 'HALO', 'RWAYZ', 'RBBN', 'AMRK', 'HTZ', 'AMPH', 'CCOI', 'PBYI', 'ACAD', 'UFCS', 'CHCO', 'BKR', 'LITE', 'GOGO', 'TRML', 'MAPS', 'TSVT', 'HUT', 'PRAA', 'CARE', 'MAT', 'BCPC', 'ETSY', 'HAYN', 'HWBK', 'WBD', 'UBFO', 'CTRN', 'PCAR', 'UPBD', 'FARM', 'CVLG', 'KLAC', 'SNY', 'MKSI', 'HCKT', 'NSIT', 'IONS', 'DSGN', 'ABNB', 'OSUR', 'KELYB', 'CPIX', 'ARTNA', 'AUR', 'IGMS', 'TBLD', 'STEP', 'PHAT', 'CENT', 'FLNC', 'AKAM', 'PGEN', 'SPI', 'PRFT', 'CCNEP', 'IRWD', 'KVHI', 'CACC', 'REGCO', 'SEAT', 'CRGX', 'XNET', 'RUN', 'NMRA', 'VCTR', 'NTRS', 'SHBI', 'SFM', 'CBNK', 'TCBI', 'PAA', 'BUSE', 'DLO', 'CLMT', 'MOMO', 'LOGI', 'BELFB', 'NYMTL', 'ANSS', 'MELI', 'SABR', 'PEP', 'MYRG', 'SPOK', 'MERC', 'HYFM', 'ZVRA', 'TSEM', 'LECO', 'WWD', 'IIIV', 'OXSQZ', 'DHCNL', 'VC', 'IMMR', 'SYRE', 'TRIB', 'SSRM', 'MSEX', 'AVNW', 'SNEX', 'CPSI', 'PTMN', 'IPHA', 'HAFC', 'GOOG', 'TROW', 'LSXMA', 'SCVL', 'CNDT', 'CRBU', 'KRNT', 'OXSQ', 'CFLT', 'ADEA', 'FOX', 'RLMD', 'AMAM', 'NVDA', 'WSBCP', 'CORZZ', 'MNDY', 'SASR', 'DHIL', 'PFC', 'LSAK', 'CVCO', 'SMMF', 'TCOM', 'OPRT', 'SOFI', 'GOODO', 'QDEL', 'HAS', 'GLUE', 'CYTK', 'HSTM', 'RELY', 'CTSH', 'UFPI', 'ACHC', 'SP', 'SCHL', 'KIRK', 'PLUS', 'ICMB', 'SYBT', 'BCML', 'GIFI', 'HLNE', 'TDUP', 'STX', 'AZN', 'JBSS', 'RBB', 'CCCS', 'EGHT', 'WERN', 'AMD', 'CSTE', 'ROP', 'GTHX', 'INCY', 'KE', 'HIBB', 'CSCO', 'ALLO', 'ROKU', 'DOYU', 'AXTI', 'COGT', 'ZIMV', 'MRNA', 'SPSC', 'PRLD', 'CAC', 'HLVX', 'BANF', 'NSSC', 'MRCC', 'LEGH', 'PARA', 'NYMTM', 'PRTA', 'HBANP', 'HSII', 'ARAY', 'STKL', 'ANTX', 'BLMN', 'PKOH', 'AMZN', 'PCRX', 'STRA', 'RDFN', 'BCRX', 'CSWI', 'MDLZ', 'OZKAP', 'ROIV', 'ALGM', 'HUMA', 'NICK', 'APLS', 'MGEE', 'USAP', 'FORR', 'VRNT', 'MMLP', 'MKTX', 'GEHC', 'RIGL', 'OXLCL', 'QURE', 'NKTX', 'NTRSO', 'PENN', 'SVC', 'ATLC', 'CSGP', 'LLYVA', 'STNE', 'JJSF', 'ELEV', 'AXON', 'MTEX', 'STRS', 'CECO', 'FNCH', 'OFSSH', 'PNFP', 'ANAB', 'BHFAO', 'MGTX', 'ADI', 'QQQX', 'PMVP', 'EXPO', 'LOCO', 'INMD', 'ASML', 'INFN', 'RUSHA', 'FIXX', 'FHB', 'WABC', 'BOOM', 'AROW', 'INVA', 'JRVR', 'BECN', 'NYMTZ', 'MNRO', 'PPBI', 'CNXC', 'EVGOW', 'POOL', 'FBIZ', 'BKNG', 'BELFA', 'PRPL', 'ASO', 'WSFS', 'CDW', 'VRA', 'IMCR', 'FSV', 'ELVN', 'GIII', 'CCD', 'ALCO', 'ICUI', 'EQIX', 'ROAD', 'CMTL', 'ESGRO', 'GLNG', 'CBSH', 'CRTO', 'PAYX', 'ZBRA', 'BYND', 'SSP', 'PLTK', 'ANGI', 'CLOV', 'NVEE', 'WYNN', 'LILAK', 'RARE', 'MEDP', 'CABA', 'TEAM', 'LULU', 'TSAT', 'VOR', 'NKLA', 'HBT', 'GABC', 'CSTR', 'FWRG', 'PEBO', 'SVRA', 'GOGL', 'GOODN', 'ENTG', 'ABCL', 'KRYS', 'ZG', 'STER', 'CFB', 'MGIC', 'GTLB', 'FSTR', 'LQDT', 'SWKS', 'AOSL', 'IMKTA', 'ANIK', 'CCSI', 'RMBS', 'LEE', 'METCB', 'FITB', 'GLPG', 'SHCR', 'MPAA', 'NTES', 'ALGT', 'UDMY', 'PYCR', 'SANA', 'REPL', 'WMG', 'OCFC', 'FIBK', 'SAIA', 'TCBX', 'AMLX', 'ACDC', 'AMCX', 'ROOT', 'CGBD', 'CPRT', 'CENTA', 'LKQ', 'CEVA', 'CASY', 'DDOG', 'VIA', 'ALKT', 'CTMX', 'LRCX', 'ISRG', 'ARCB', 'BANX', 'MESO', 'UXIN', 'RIVN', 'STBA', 'KRNY', 'STLD', 'IRTC', 'AMRX', 'MFIN', 'NARI', 'HBCP', 'HRZN', 'PNFPP', 'AAPL', 'CHSCM', 'FCNCP', 'AGNCL', 'AMSF', 'OXLCZ', 'FROG', 'PBPB', 'ORLY', 'TYRA', 'DOX', 'ASTE', 'VLY', 'MDRX', 'HWKN', 'SENEB', 'CRUS', 'AMGN', 'BGNE', 'GRFS', 'UTSI', 'LBTYK', 'LBRDA', 'NTRA', 'ULTA', 'HONE', 'BHFAM', 'NWE', 'ICVX', 'CSQ', 'TITN', 'XERS', 'MRBK', 'NMFC', 'MCHX', 'RWAYL', 'PERI', 'DADA', 'METCL', 'VIRX', 'EDIT', 'SGMO', 'FGEN', 'CMAXW', 'SPRB', 'AFYA', 'TRUE', 'PWOD', 'HCP', 'WOOF', 'LIN', 'ZD', 'ICLR', 'INZY', 'CCEP', 'CHDN', 'ASTS', 'MTRX', 'IREN', 'GLBE', 'WRLD', 'HA', 'WDC', 'EWTX', 'MSFT', 'DWSN', 'DOOO', 'QCOM', 'CFFI', 'MAR', 'CASA', 'MNTSW', 'RVMDW', 'API', 'UCBIO', 'DIOD', 'BHFAL', 'PFBC', 'SPRO', 'NICE', 'CVLT', 'TSHA', 'ICFI', 'HBANM', 'CRDO', 'FFIC', 'UTMD', 'PTCT', 'ACCD', 'FELE', 'GOSS', 'MYFW', 'ME', 'OMAB', 'ARBK', 'DRVN', 'WW', 'TXRH', 'TCBK', 'FANG', 'NYMTN', 'SNPS', 'IMOS', 'PLPC', 'MNST', 'EXLS', 'EXEL', 'NDLS', 'COHU', 'CRAI', 'EXAI', 'ACGLO', 'SMTC', 'CTKB', 'CRSR', 'POWL', 'CAKE', 'CWCO', 'GSHD', 'MTSI', 'ASYS', 'EVO', 'AMNB', 'GBIO', 'FWONA', 'LESL', 'ABUS', 'COKE', 'OPTN', 'COO', 'ADSK', 'BVS', 'TRIN', 'INBK', 'WSBC', 'OTTR', 'NMRK', 'FRMEP', 'GGROW', 'CIFRW', 'ASND', 'DYN', 'LLYVK', 'PODD', 'ODP', 'FISI', 'BOKF', 'WDFC', 'LILM', 'IVAC', 'EXC', 'GURE', 'NWL', 'FLXS', 'ACRS', 'VINP', 'TTMI', 'MTLS', 'IDCC', 'TFSL', 'ON', 'EHTH', 'GRCL', 'CSIQ', 'HFWA', 'NCNO', 'GNTX', 'KTOS', 'AGNCO', 'RUSHB', 'WB', 'HON', 'LBRDP', 'COIN', 'ABSI', 'BZUN', 'SHC', 'JBHT', 'CVRX', 'AMWD', 'ERII', 'ALXO', 'CASS', 'XRAY', 'COLL', 'LBTYB', 'CERT', 'BLUE', 'GERN', 'NVCR', 'PDCO', 'MAPSW', 'CTLP', 'APYX', 'DH', 'LEGN', 'CONN', 'RXT', 'HIMX', 'SYNA', 'BHFAN', 'GO', 'FCBC', 'INSM', 'VFS', 'WAFD', 'MMSI', 'ROCK', 'PHVS', 'OPT', 'ATSG', 'CHI', 'TBLAW', 'CSGS', 'SRCL', 'KHC', 'CHX', 'FORM', 'SLRN', 'CINF', 'SFIX', 'ULH', 'EEFT', 'RPID', 'TBLA', 'CVBF', 'DCOM', 'PYPL', 'LI', 'SPWH', 'LSTR', 'UNIT', 'VTYX', 'WSBF', 'MSTR', 'NXT', 'VNOM', 'LCID', 'CHK', 'AAON', 'PATK', 'AKRO', 'PETQ', 'ISSC', 'CHSCP', 'PRDO', 'ACLX', 'ALGS', 'FITBO', 'HSAI', 'DUOL', 'SOHU', 'GAINZ', 'UVSP', 'MODV', 'PANW', 'REGN', 'MRTN', 'KDP', 'MLAB', 'ARHS', 'IMVT', 'WHF', 'ESSA', 'OPK', 'MORN', 'ORIC', 'BRP', 'DMLP', 'FYBR', 'VRM', 'HTBK', 'RCKY', 'OPRA', 'SBAC', 'VSAT', 'ALHC', 'AZPN', 'GAINN', 'LBRDK', 'DCPH', 'FSBC', 'SONO', 'SLP', 'NXST', 'LBC', 'ADP', 'CCLP', 'VNET', 'AGNCM', 'LSXMK', 'TNYA', 'SGH', 'CME', 'HNST', 'EA', 'BIIB', 'TECH', 'CGABL', 'KPTI', 'DGII', 'PCB', 'FLYW', 'AFRM', 'DHC', 'SEIC', 'UTHR', 'UCBI', 'WNEB', 'AMED', 'INDV', 'REGCP', 'WFRD', 'JKHY', 'FIZZ', 'RDWR', 'SMCI', 'BIDU', 'BRAG', 'BMRN', 'ARLP', 'SIEN', 'TTEK', 'OXLCM', 'HAIN', 'CAMP', 'JD', 'ILPT', 'GRPN', 'FUND', 'SCOR', 'CBRL', 'ODFL', 'BASE', 'NVEI', 'CDNS', 'BRY', 'FITBI', 'PNTG', 'ITIC', 'CGC', 'ARGX', 'SIGIP', 'CUTR', 'DCOMP', 'NTAP', 'INTU', 'NBIX', 'VECO', 'TXG', 'HTLFP', 'NOVT', 'CYBR', 'FFNW', 'DAWN', 'DDI', 'ALLT', 'TCPC', 'FA', 'CLNE', 'VSTA', 'BZ', 'QFIN', 'TSCO', 'EFSCP', 'NGM', 'GH', 'TW', 'MASI', 'ACVA', 'OVID', 'WING', 'OPCH', 'TTEC', 'FRSH', 'NAVI', 'SLDPW', 'GLDD', 'LOPE', 'DMRC', 'FLWS', 'LPSN', 'GNFT', 'SRPT', 'SSYS', 'MOFG', 'PTON', 'GREEL', 'VRSN', 'CROX', 'COLM', 'ANDE', 'ASPS', 'AUDC', 'ADTN', 'KNSA', 'TIGO', 'WTFCP', 'HURN', 'EVRG', 'SANM', 'GEOS', 'SBLK', 'CCB', 'HUBG', 'JAZZ', 'PAX', 'PLAB', 'OXLC', 'RGLD', 'IOBT', 'ADUS', 'BPOPM', 'RBCAA', 'RGP', 'AVGO', 'LAMR', 'NEOG', 'HOLI', 'FCNCA', 'ALEC', 'ERAS', 'CVGW', 'OZK', 'BGC', 'AMKR', 'ACGLN', 'SAFT', 'RLYB', 'SWIM', 'PRTS', 'CSWCZ', 'BHF', 'IDXX', 'CGEM', 'RRBI', 'SPNS', 'FNKO', 'WKME', 'AVDX', 'MBLY', 'TMCWW', 'RPTX', 'VTRU', 'AVT', 'TCBIO', 'APLD', 'STGW', 'BL', 'OXLCO', 'CRCT', 'FNLC', 'SHCRW', 'XMTR', 'ACLS', 'ITRI', 'MESA', 'EBAY', 'CTBI', 'CPLP', 'TWOU', 'NRC', 'TMUS', 'IFRX', 'TWIN', 'RYAAY', 'CASH', 'OGI', 'HNVR', 'UAL', 'GRTS', 'RCM', 'DSP', 'CLAR', 'PACB', 'TWKS', 'FSLR', 'EBC', 'FITBP', 'MIDD', 'TAST', 'XLO', 'FTAIN', 'META', 'ERIC', 'STTK', 'FARO', 'AVAH', 'FTAI', 'SGRY', 'KLTR', 'GRABW', 'HWC', 'GSIT', 'CCRN', 'PCVX', 'NATH', 'EBON', 'METC', 'REYN', 'EFSC', 'KELYA', 'HOLX', 'MGRC', 'RELL', 'ZUMZ', 'SANG', 'VRNS', 'FUSN', 'SCWX', 'AMBA', 'HEPS', 'SILK', 'PINC', 'YORW', 'OCFCP', 'OMGA', 'VIOT', 'CHKP', 'MSBI', 'BBIO', 'REAL', 'IMGN', 'DLTH', 'CHSCO', 'ONB', 'NWBI', 'GFS', 'MXL', 'SIRI', 'JBLU', 'TXMD', 'PCH', 'FWRD', 'FTAIO', 'CALT', 'HSIC', 'BPYPP', 'RGNX', 'EBTC', 'FBNC', 'LFCR', 'FFBC', 'VBNK', 'JOUT', 'OFS', 'SSNC', 'DGICB', 'GOOGL', 'BHFAP', 'CHRD', 'BRZE', 'SOPH', 'HLIT', 'APA', 'TFIN', 'ACOR', 'UBX', 'EXPE', 'VLGEA', 'OPI', 'VLYPO', 'ARM', 'XEL', 'HTLF', 'ASTSW', 'PLMR', 'KFRC', 'ANNX', 'AEP', 'BSVN', 'HUMAW', 'IPSC', 'GLADZ', 'TZOO', 'DXCM', 'QRTEA', 'JSM', 'OXLCN', 'TARS', 'AKYA', 'USLM', 'OSBC', 'STRL', 'TREE', 'LIVN', 'CHUY', 'PDD', 'LAZR', 'AVPT', 'ACTG', 'AEIS', 'FWONK', 'ADV', 'BCYC', 'SHYF', 'ADBE', 'ONBPP', 'CLBTW', 'IAS', 'BKCC', 'OPEN', 'GSBC', 'IDYA', 'LVTX', 'ITRN', 'MCRB', 'ALLK', 'CRNX', 'CARG', 'TENB', 'PRAX', 'ATLCP', 'JAKK', 'ATAT', 'BPOP', 'CALM', 'GGR', 'KRON', 'CART', 'FCNCO', 'SHOO', 'VOD', 'ENLT', 'TBNK', 'DXPE', 'ZION', 'IBTX', 'EWCZ', 'BNTX', 'LGIH', 'NUVL', 'LMNR', 'ATNI', 'HTHT', 'GEN', 'JACK', 'CLBT', 'ICHR', 'ARWR', 'PECO', 'ADPT', 'CRMT', 'HST', 'CRESY', 'PLAY', 'PYXS', 'CORZW', 'SKWD', 'LYTS', 'CNTA', 'NWPX', 'FTDR', 'ACT', 'IBOC', 'RGEN', 'QRTEB', 'WGSWW', 'WAFDP', 'CHRW', 'VRSK', 'DSGX', 'ANGO', 'ENTA', 'LZ', 'BSY', 'HTBI', 'MLCO', 'HBANL', 'INDB', 'ALKS', 'BANFP', 'GLAD', 'UBSI', 'QIWI', 'SBSI', 'ZS', 'SPLK', 'PRVA', 'BIRD', 'THFF', 'OFIX', 'PFG', 'WEYS', 'RVSB', 'POWI', 'ESGR', 'WIX', 'SONDW', 'TOWN', 'IBKR', 'DKNG', 'CENX', 'ALRM', 'GRAB', 'LBTYA', 'FCFS', 'AMSC', 'CHMG', 'AVPTW', 'VIASP', 'MSBIP', 'KC', 'IART', 'SKYW', 'KZR', 'BFIN', 'CMCSA', 'DORM', 'DOCU', 'GRIN', 'CMCO', 'IEP', 'ATHA', 'BCEL', 'WHFCL', 'MGNX', 'PEPG', 'HQY', 'AGNC', 'ATRO', 'INTA', 'AUTL', 'NYAX', 'AVRO', 'VIGL', 'NYMT', 'QNCX', 'VICR', 'PLXS', 'HSON', 'LX', 'GREE', 'ABOS', 'FUNC', 'UCTT', 'CRNT', 'VMEO', 'ZYXI', 'MVST', 'BBSI', 'FOSL', 'WBA', 'MBWM', 'MOR', 'ZYME', 'QRTEP', 'SDGR', 'ACGL', 'EWBC', 'EVCM', 'PLYA', 'NDSN', 'MGPI', 'LAUR', 'LILA', 'TFINP', 'ARVN', 'SLRC', 'SPWR', 'KRT', 'OSIS', 'SEER', 'AVO', 'WASH', 'SEDG', 'OMCL', 'DHCNI', 'AZTA', 'QLYS', 'MCBS', 'TRMK', 'CHEF', 'EYE', 'SCSC', 'CNXN', 'ZEUS', 'CCNE', 'FOXF', 'MMYT', 'NAUT', 'OTLY', 'BANR', 'HTLD', 'XRX', 'CYT', 'SNCY', 'LCUT', 'CNSL', 'KNDI', 'ACHL', 'OM', 'TWST', 'DAKT', 'SRCE', 'IAC', 'BATRA', 'CMAX', 'PSMT', 'MRCY', 'PFIS', 'BIOX', 'LSCC', 'SNBR', 'DSGR', 'GLTO', 'ERIE', 'SBGI', 'BLFY', 'MLKN', 'HELE', 'OXSQG', 'BPMC', 'VTRS', 'HCM', 'MCBC', 'TPG', 'ZI', 'IHRT', 'LBAI', 'UPWK', 'DBVT', 'BMEA', 'BPYPO', 'QNST', 'SYRS', 'PRGS', 'HBAN', 'IRDM', 'RWAY', 'DNUT', 'PTVE', 'COST', 'CGNX', 'ILMN', 'ULCC', 'NNBR', 'FTNT', 'QRVO', 'BAND', 'LINC', 'GPRO', 'SLDP', 'CBAY', 'APEI', 'EVGO', 'PGC', 'LAB', 'PROV', 'CHSCL', 'LGO', 'PI', 'BCOV', 'LKFN', 'IRBT', 'INGN', 'BRKR', 'LFST', 'MNTS', 'SPFI', 'NTCT', 'SLDB', 'TASK', 'CHKEL', 'CLBK', 'THRM', 'BMBL', 'TBBK', 'WEN', 'KMDA', 'SEATW', 'GILD', 'TBIO', 'MPWR', 'CCBG', 'NVMI', 'WIRE', 'HOOD', 'PSTX', 'GMAB', 'BSRR', 'IMUX', 'NFE', 'TERN', 'MCRI', 'LFUS', 'AMAT', 'KLIC', 'PTC', 'INTC', 'FRPH', 'PARAA', 'OTEX', 'IBRX', 'MRVL', 'NFLX', 'SHEN', 'FEAM', 'TSLA', 'OLMA', 'NWS', 'SENEA', 'WPRT', 'CTAS', 'GLRE', 'SSSS', 'HEES', 'FIP', 'AVAV', 'SSBK', 'CNOBP', 'MVSTW', 'ALTR', 'XBIT', 'NXTC', 'GAIN', 'SWAV', 'SBCF', 'OXLCP', 'EMBC', 'TUSK', 'PASG', 'PLCE', 'ECPG', 'TXN', 'CGO', 'FFIN', 'EXFY', 'PDFS', 'NWLI', 'REG', 'WTFCM', 'LANC', 'VCSA', 'CDXS', 'ALGN', 'PARAP', 'FOSLL', 'MDGL', 'AGIO', 'MAXN', 'TRST', 'MEOH', 'YQ', 'CSX', 'VALN', 'FIVE', 'VSEC', 'ZM', 'DGICA', 'PLRX', 'CIGI', 'NBTB', 'OCSL', 'PAGP', 'WISH', 'CALB', 'BATRK', 'ARCC', 'VIAV', 'WGS', 'PPC', 'KNTE', 'PETS', 'ZJZZT', 'SFNC', 'THRX', 'MYGN', 'WTW', 'LXRX', 'RPRX', 'CMPS', 'JAMF', 'GOOD', 'LSXMB', 'SRAD', 'GPRE', 'DBX', 'CNOB', 'SCPH', 'BEAM', 'APOG', 'SLMBP', 'DCBO', 'RNWWW', 'PGNY', 'COLB', 'DASH', 'WDAY', 'MTCH', 'AVXL', 'ESGRP', 'BJRI', 'IOSP', 'ARQT', 'NWSA', 'WTFC', 'FDUS', 'DNLI', 'SBUX']: Exception('%ticker%: 15m data not available for startTime=1701406800 and endTime=1706418000. The requested range must be within the last 60 days.')\n",
      "['ZXYZ.A']: Exception('%ticker%: No timezone found, symbol may be delisted')\n"
     ]
    }
   ],
   "source": [
    "df = yf.download(tickers, interval=\"15m\", start=\"2023-12-01\", end=\"2024-01-28\", threads=True)"
   ]
  },
  {
   "cell_type": "code",
   "execution_count": 22,
   "metadata": {},
   "outputs": [
    {
     "name": "stderr",
     "output_type": "stream",
     "text": [
      "[*********************100%%**********************]  1 of 1 completed\n",
      "\n",
      "1 Failed download:\n",
      "['^GSPC']: Exception('%ticker%: 15m data not available for startTime=1701406800 and endTime=1706418000. The requested range must be within the last 60 days.')\n"
     ]
    },
    {
     "data": {
      "text/html": [
       "<div>\n",
       "<style scoped>\n",
       "    .dataframe tbody tr th:only-of-type {\n",
       "        vertical-align: middle;\n",
       "    }\n",
       "\n",
       "    .dataframe tbody tr th {\n",
       "        vertical-align: top;\n",
       "    }\n",
       "\n",
       "    .dataframe thead th {\n",
       "        text-align: right;\n",
       "    }\n",
       "</style>\n",
       "<table border=\"1\" class=\"dataframe\">\n",
       "  <thead>\n",
       "    <tr style=\"text-align: right;\">\n",
       "      <th></th>\n",
       "      <th>Open</th>\n",
       "      <th>High</th>\n",
       "      <th>Low</th>\n",
       "      <th>Close</th>\n",
       "      <th>Adj Close</th>\n",
       "      <th>Volume</th>\n",
       "    </tr>\n",
       "    <tr>\n",
       "      <th>Date</th>\n",
       "      <th></th>\n",
       "      <th></th>\n",
       "      <th></th>\n",
       "      <th></th>\n",
       "      <th></th>\n",
       "      <th></th>\n",
       "    </tr>\n",
       "  </thead>\n",
       "  <tbody>\n",
       "  </tbody>\n",
       "</table>\n",
       "</div>"
      ],
      "text/plain": [
       "Empty DataFrame\n",
       "Columns: [Open, High, Low, Close, Adj Close, Volume]\n",
       "Index: []"
      ]
     },
     "execution_count": 22,
     "metadata": {},
     "output_type": "execute_result"
    }
   ],
   "source": [
    "yf.download(\"^GSPC\", interval=\"15m\", start=\"2023-12-01\", end=\"2024-01-28\")"
   ]
  },
  {
   "cell_type": "code",
   "execution_count": 17,
   "metadata": {},
   "outputs": [
    {
     "data": {
      "text/plain": [
       "2023-12-19 09:30:00   NaN\n",
       "2023-12-19 09:45:00   NaN\n",
       "2023-12-19 10:00:00   NaN\n",
       "2023-12-19 10:15:00   NaN\n",
       "2023-12-19 10:30:00   NaN\n",
       "                       ..\n",
       "2024-01-26 14:45:00   NaN\n",
       "2024-01-26 15:00:00   NaN\n",
       "2024-01-26 15:15:00   NaN\n",
       "2024-01-26 15:30:00   NaN\n",
       "2024-01-26 15:45:00   NaN\n",
       "Name: (Adj Close, AAPL), Length: 516, dtype: float64"
      ]
     },
     "execution_count": 17,
     "metadata": {},
     "output_type": "execute_result"
    }
   ],
   "source": [
    "df[('Adj Close',   'AAPL')]"
   ]
  },
  {
   "cell_type": "code",
   "execution_count": null,
   "metadata": {},
   "outputs": [],
   "source": []
  },
  {
   "cell_type": "code",
   "execution_count": null,
   "metadata": {},
   "outputs": [],
   "source": [
    "def getPR(symbol):\n",
    "    sn = None\n",
    "    pr = None\n",
    "    try:\n",
    "        stock = yf.Ticker(symbol)\n",
    "        pr = stock.info['pegRatio']\n",
    "        sn = stock.info['shortName']\n",
    "    except Exception:\n",
    "        pass\n",
    "    return (sn, pr)\n",
    "\n",
    "\n",
    "with concurrent.futures.ThreadPoolExecutor() as executor:\n",
    "    futures = {executor.submit(getPR, sym): sym for sym in data['Symbol']}\n",
    "    for future in concurrent.futures.as_completed(futures):\n",
    "        sn, pr = future.result()\n",
    "        if sn:\n",
    "            print(f'{sn} : {pr}')"
   ]
  }
 ],
 "metadata": {
  "kernelspec": {
   "display_name": "qr",
   "language": "python",
   "name": "python3"
  },
  "language_info": {
   "codemirror_mode": {
    "name": "ipython",
    "version": 3
   },
   "file_extension": ".py",
   "mimetype": "text/x-python",
   "name": "python",
   "nbconvert_exporter": "python",
   "pygments_lexer": "ipython3",
   "version": "3.10.12"
  }
 },
 "nbformat": 4,
 "nbformat_minor": 2
}
