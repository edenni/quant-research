{
 "cells": [
  {
   "cell_type": "markdown",
   "metadata": {},
   "source": [
    "Use Nasdaq as the universe and alpha 101 as the factors"
   ]
  },
  {
   "cell_type": "code",
   "execution_count": 52,
   "metadata": {},
   "outputs": [],
   "source": [
    "from pathlib import Path\n",
    "from datetime import datetime\n",
    "from zoneinfo import ZoneInfo\n",
    "\n",
    "import pandas as pd\n",
    "import yfinance as yf\n",
    "import matplotlib.pyplot as plt\n",
    "import plotly.express as px\n",
    "import plotly.graph_objects as go\n",
    "from tqdm import tqdm"
   ]
  },
  {
   "cell_type": "code",
   "execution_count": 2,
   "metadata": {},
   "outputs": [],
   "source": [
    "data_dir = Path(\"../../../data\")\n",
    "stock_dir = data_dir / \"nasdaq100\"\n",
    "qqq_path = data_dir / \"QQQ.csv\""
   ]
  },
  {
   "cell_type": "markdown",
   "metadata": {},
   "source": [
    "## Read Nasdaq 100 stocks and QQQ as benchmark"
   ]
  },
  {
   "cell_type": "code",
   "execution_count": 3,
   "metadata": {},
   "outputs": [],
   "source": [
    "def parse_date(datetime_str: str) -> datetime:\n",
    "    dt, tz = datetime_str.rsplit(\" \", maxsplit=1)\n",
    "\n",
    "    date_time_obj = datetime.strptime(dt, \"%Y%m%d %H:%M:%S\").replace(\n",
    "        tzinfo=ZoneInfo(tz)\n",
    "    )\n",
    "    return date_time_obj\n",
    "\n",
    "\n",
    "def read_stock(file_path: str) -> pd.DataFrame:\n",
    "    df = pd.read_csv(\n",
    "        file_path, names=[\"date\", \"open\", \"high\", \"low\", \"close\", \"volume\"]\n",
    "    )\n",
    "    df[\"date\"] = df[\"date\"].map(parse_date)\n",
    "    df.set_index(\"date\", inplace=True)\n",
    "    return df\n",
    "\n",
    "\n",
    "def plot_stock(df: pd.DataFrame, ticker: str) -> None:\n",
    "    \"\"\"Plot stock price with plotly and show earning rate in title.\"\"\"\n",
    "    fig = go.Figure()\n",
    "    fig.add_trace(\n",
    "        go.Scatter(x=df.index, y=df[\"close\"], mode=\"lines\", name=\"close\")\n",
    "    )\n",
    "\n",
    "    er = (df[\"close\"].iloc[-1] - df[\"close\"].iloc[0]) / df[\"close\"].iloc[0]\n",
    "    fig.update_layout(title=f\"{ticker} | Earning Rate: {er:.2%}\")\n",
    "    fig.show()\n",
    "\n",
    "\n",
    "def sharpe_ratio(df: pd.DataFrame, risk_free: float = None) -> float:\n",
    "    \"\"\"Calculate sharpes ratio.\"\"\"\n",
    "    pc = df[\"close\"].pct_change()\n",
    "    if risk_free:\n",
    "        return (pc.mean() - risk_free) / pc.std()\n",
    "    else:\n",
    "        return pc.mean() / pc.std()"
   ]
  },
  {
   "cell_type": "code",
   "execution_count": 4,
   "metadata": {},
   "outputs": [],
   "source": [
    "df_qqq = read_stock(qqq_path)"
   ]
  },
  {
   "cell_type": "code",
   "execution_count": 5,
   "metadata": {},
   "outputs": [
    {
     "name": "stderr",
     "output_type": "stream",
     "text": [
      "101it [00:09, 10.42it/s]\n"
     ]
    }
   ],
   "source": [
    "stocks = {}\n",
    "\n",
    "for stock in tqdm(stock_dir.glob(\"*.csv\")):\n",
    "    ticker = stock.stem\n",
    "    df = read_stock(stock)\n",
    "    stocks[ticker] = df\n",
    "\n",
    "    # print(f\"{ticker} Sharpe Ratio: {sharpe_ratio(df, risk_free=0.04):.2f}\")\n",
    "    # print(f\"{ticker} CAGR: {((df['close'].iloc[-1] / df['close'].iloc[0]) ** (1/len(df)) - 1):.2%}\")\n",
    "    # print(f\"{ticker} Max Drawdown: {((df['close'].max() - df['close'].min()) / df['close'].max()):.2%}\")\n",
    "    # print(f\"{ticker} Beta: {df['close'].corr(df_qqq['close']):.2f}\")\n",
    "    # print(f\"{ticker} Alpha: {((df['close'].pct_change() - 0.01).mean() - (df_qqq['close'].pct_change() - 0.01).mean()):.2%}\")"
   ]
  },
  {
   "cell_type": "code",
   "execution_count": 48,
   "metadata": {},
   "outputs": [],
   "source": [
    "df = pd.concat(stocks.values(), keys=stocks.keys(), axis=1)"
   ]
  },
  {
   "cell_type": "code",
   "execution_count": 49,
   "metadata": {},
   "outputs": [
    {
     "data": {
      "text/plain": [
       "0.8083896742470805"
      ]
     },
     "execution_count": 49,
     "metadata": {},
     "output_type": "execute_result"
    }
   ],
   "source": [
    "(len(df) - len(df.dropna(how=\"any\"))) / len(df)"
   ]
  },
  {
   "cell_type": "code",
   "execution_count": 50,
   "metadata": {},
   "outputs": [
    {
     "data": {
      "text/plain": [
       "<matplotlib.image.AxesImage at 0x21ae0c45e70>"
      ]
     },
     "execution_count": 50,
     "metadata": {},
     "output_type": "execute_result"
    },
    {
     "data": {
      "image/png": "[encoded data removed]",
      "text/plain": [
       "<Figure size 1000x500 with 1 Axes>"
      ]
     },
     "metadata": {},
     "output_type": "display_data"
    }
   ],
   "source": [
    "# visualize nan values\n",
    "plt.figure(figsize=(10, 5))\n",
    "plt.imshow(df.isnull(), aspect=\"auto\")"
   ]
  },
  {
   "cell_type": "code",
   "execution_count": 51,
   "metadata": {},
   "outputs": [
    {
     "name": "stdout",
     "output_type": "stream",
     "text": [
      "DASH has nan ratio: 80.72%, first date: 2023-09-27 09:30:00-04:00\n",
      "GEHC has nan ratio: 41.86%, first date: 2022-12-15 09:30:00-05:00\n",
      "ROP has nan ratio: 69.13%, first date: 2023-07-06 09:30:00-04:00\n"
     ]
    }
   ],
   "source": [
    "for ticker in df.columns.levels[0]:\n",
    "    # count nan ratio\n",
    "    nan_ratio = df[ticker].isnull().sum() / len(df)\n",
    "    if nan_ratio.max() > 0.2:\n",
    "        # get first non-nan date\n",
    "        first_date = df[ticker][df[ticker].notna().all(axis=1)].index[0]\n",
    "        print(f\"{ticker} has nan ratio: {nan_ratio.max():.2%}, first date: {first_date}\")"
   ]
  },
  {
   "cell_type": "code",
   "execution_count": 56,
   "metadata": {},
   "outputs": [
    {
     "data": {
      "text/plain": [
       "datetime.datetime(2020, 12, 9, 23, 30)"
      ]
     },
     "execution_count": 56,
     "metadata": {},
     "output_type": "execute_result"
    }
   ],
   "source": [
    "datetime.fromtimestamp(ticker.info[\"firstTradeDateEpochUtc\"])"
   ]
  },
  {
   "cell_type": "code",
   "execution_count": 57,
   "metadata": {},
   "outputs": [
    {
     "name": "stdout",
     "output_type": "stream",
     "text": [
      "2020-12-09\n",
      "2022-12-15\n",
      "1992-02-13\n"
     ]
    }
   ],
   "source": [
    "for ticker in [\"DASH\", \"GEHC\", \"ROP\"]:\n",
    "    ticker = yf.Ticker(ticker)\n",
    "    # get IPO date\n",
    "    print(datetime.fromtimestamp(ticker.info[\"firstTradeDateEpochUtc\"]).strftime(\"%Y-%m-%d\"))"
   ]
  },
  {
   "cell_type": "markdown",
   "metadata": {},
   "source": [
    "The data missing is caused by API, but still, let's drop them"
   ]
  },
  {
   "cell_type": "code",
   "execution_count": 58,
   "metadata": {},
   "outputs": [],
   "source": [
    "df = df.drop(columns=[\"DASH\", \"GEHC\", \"ROP\"])"
   ]
  },
  {
   "cell_type": "code",
   "execution_count": null,
   "metadata": {},
   "outputs": [],
   "source": []
  }
 ],
 "metadata": {
  "kernelspec": {
   "display_name": "qr",
   "language": "python",
   "name": "python3"
  },
  "language_info": {
   "codemirror_mode": {
    "name": "ipython",
    "version": 3
   },
   "file_extension": ".py",
   "mimetype": "text/x-python",
   "name": "python",
   "nbconvert_exporter": "python",
   "pygments_lexer": "ipython3",
   "version": "3.10.12"
  }
 },
 "nbformat": 4,
 "nbformat_minor": 2
}
