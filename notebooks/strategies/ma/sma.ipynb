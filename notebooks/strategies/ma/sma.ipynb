{
 "cells": [
  {
   "cell_type": "code",
   "execution_count": 2,
   "metadata": {},
   "outputs": [],
   "source": [
    "import backtrader as bt\n",
    "import pendulum\n",
    "import yfinance as yf"
   ]
  },
  {
   "cell_type": "code",
   "execution_count": 3,
   "metadata": {},
   "outputs": [
    {
     "name": "stdout",
     "output_type": "stream",
     "text": [
      "[*********************100%***********************]  1 of 1 completed\n"
     ]
    }
   ],
   "source": [
    "start = pendulum.parse(\"2022-01-01\")\n",
    "end = pendulum.parse(\"2023-01-01\")\n",
    "df = yf.download(\n",
    "    tickers=\"MSFT\",\n",
    "    # period=\"1y\",\n",
    "    interval=\"1h\",\n",
    "    start=start,\n",
    "    end=end,\n",
    ")"
   ]
  },
  {
   "cell_type": "code",
   "execution_count": 4,
   "metadata": {},
   "outputs": [],
   "source": [
    "class SingleSMA(bt.SignalStrategy):\n",
    "    def __init__(self, period=7):\n",
    "        self.sma = bt.indicators.MovingAverageSimple(period=period)\n",
    "\n",
    "    def next(self):\n",
    "        if (\n",
    "            self.sma[-1] < self.data.close\n",
    "            # and self.sma[-1] < self.sma[-2]\n",
    "            and not self.position\n",
    "        ):\n",
    "            self.buy()\n",
    "\n",
    "        elif (\n",
    "            self.sma[-1] > self.data.close\n",
    "            # and self.sma[-1] > self.sma[-2]\n",
    "            and self.position\n",
    "        ):\n",
    "            self.sell()"
   ]
  },
  {
   "cell_type": "code",
   "execution_count": 11,
   "metadata": {},
   "outputs": [],
   "source": [
    "class SmaCross(bt.Strategy):\n",
    "    # list of parameters which are configurable for the strategy\n",
    "    params = dict(\n",
    "        pfast=7,  # period for the fast moving average\n",
    "        pslow=26   # period for the slow moving average\n",
    "    )\n",
    "\n",
    "    def __init__(self, pfast, pslow):\n",
    "        sma1 = bt.ind.SMA(period=pfast)  # fast moving average\n",
    "        sma2 = bt.ind.SMA(period=pslow)  # slow moving average\n",
    "        self.crossover = bt.ind.CrossOver(sma1, sma2)  # crossover signal\n",
    "\n",
    "    def next(self):\n",
    "        if not self.position:  # not in the market\n",
    "            if self.crossover > 0:  # if fast crosses slow to the upside\n",
    "                self.log(f\"BUY at {self.data.close}\")\n",
    "                self.buy()  # enter long\n",
    "\n",
    "        elif self.crossover < 0:  # in the market & cross to the downside\n",
    "            self.close()  # close long position"
   ]
  },
  {
   "cell_type": "code",
   "execution_count": 13,
   "metadata": {},
   "outputs": [
    {
     "ename": "AttributeError",
     "evalue": "'Lines_LineSeries_LineIterator_DataAccessor_Strateg' object has no attribute 'log'",
     "output_type": "error",
     "traceback": [
      "\u001b[1;31m---------------------------------------------------------------------------\u001b[0m",
      "\u001b[1;31mAttributeError\u001b[0m                            Traceback (most recent call last)",
      "Cell \u001b[1;32mIn[13], line 21\u001b[0m\n\u001b[0;32m     14\u001b[0m data \u001b[39m=\u001b[39m bt\u001b[39m.\u001b[39mfeeds\u001b[39m.\u001b[39mPandasData(\n\u001b[0;32m     15\u001b[0m     dataname\u001b[39m=\u001b[39mdf,\n\u001b[0;32m     16\u001b[0m     timeframe\u001b[39m=\u001b[39mbt\u001b[39m.\u001b[39mTimeFrame\u001b[39m.\u001b[39mMinutes,\n\u001b[0;32m     17\u001b[0m     compression\u001b[39m=\u001b[39m\u001b[39m60\u001b[39m,\n\u001b[0;32m     18\u001b[0m )\n\u001b[0;32m     20\u001b[0m cerebro\u001b[39m.\u001b[39madddata(data)\n\u001b[1;32m---> 21\u001b[0m result \u001b[39m=\u001b[39m cerebro\u001b[39m.\u001b[39;49mrun()\n\u001b[0;32m     23\u001b[0m value \u001b[39m=\u001b[39m cerebro\u001b[39m.\u001b[39mbroker\u001b[39m.\u001b[39mget_value()\n\u001b[0;32m     24\u001b[0m \u001b[39mif\u001b[39;00m value \u001b[39m>\u001b[39m max_value:\n",
      "File \u001b[1;32mc:\\Users\\ntj_0\\Anaconda3\\envs\\qr\\lib\\site-packages\\backtrader\\cerebro.py:1132\u001b[0m, in \u001b[0;36mCerebro.run\u001b[1;34m(self, **kwargs)\u001b[0m\n\u001b[0;32m   1128\u001b[0m \u001b[39mif\u001b[39;00m \u001b[39mnot\u001b[39;00m \u001b[39mself\u001b[39m\u001b[39m.\u001b[39m_dooptimize \u001b[39mor\u001b[39;00m \u001b[39mself\u001b[39m\u001b[39m.\u001b[39mp\u001b[39m.\u001b[39mmaxcpus \u001b[39m==\u001b[39m \u001b[39m1\u001b[39m:\n\u001b[0;32m   1129\u001b[0m     \u001b[39m# If no optimmization is wished ... or 1 core is to be used\u001b[39;00m\n\u001b[0;32m   1130\u001b[0m     \u001b[39m# let's skip process \"spawning\"\u001b[39;00m\n\u001b[0;32m   1131\u001b[0m     \u001b[39mfor\u001b[39;00m iterstrat \u001b[39min\u001b[39;00m iterstrats:\n\u001b[1;32m-> 1132\u001b[0m         runstrat \u001b[39m=\u001b[39m \u001b[39mself\u001b[39;49m\u001b[39m.\u001b[39;49mrunstrategies(iterstrat)\n\u001b[0;32m   1133\u001b[0m         \u001b[39mself\u001b[39m\u001b[39m.\u001b[39mrunstrats\u001b[39m.\u001b[39mappend(runstrat)\n\u001b[0;32m   1134\u001b[0m         \u001b[39mif\u001b[39;00m \u001b[39mself\u001b[39m\u001b[39m.\u001b[39m_dooptimize:\n",
      "File \u001b[1;32mc:\\Users\\ntj_0\\Anaconda3\\envs\\qr\\lib\\site-packages\\backtrader\\cerebro.py:1298\u001b[0m, in \u001b[0;36mCerebro.runstrategies\u001b[1;34m(self, iterstrat, predata)\u001b[0m\n\u001b[0;32m   1296\u001b[0m         \u001b[39mself\u001b[39m\u001b[39m.\u001b[39m_runonce_old(runstrats)\n\u001b[0;32m   1297\u001b[0m     \u001b[39melse\u001b[39;00m:\n\u001b[1;32m-> 1298\u001b[0m         \u001b[39mself\u001b[39;49m\u001b[39m.\u001b[39;49m_runonce(runstrats)\n\u001b[0;32m   1299\u001b[0m \u001b[39melse\u001b[39;00m:\n\u001b[0;32m   1300\u001b[0m     \u001b[39mif\u001b[39;00m \u001b[39mself\u001b[39m\u001b[39m.\u001b[39mp\u001b[39m.\u001b[39moldsync:\n",
      "File \u001b[1;32mc:\\Users\\ntj_0\\Anaconda3\\envs\\qr\\lib\\site-packages\\backtrader\\cerebro.py:1700\u001b[0m, in \u001b[0;36mCerebro._runonce\u001b[1;34m(self, runstrats)\u001b[0m\n\u001b[0;32m   1697\u001b[0m \u001b[39mself\u001b[39m\u001b[39m.\u001b[39m_check_timers(runstrats, dt0, cheat\u001b[39m=\u001b[39m\u001b[39mFalse\u001b[39;00m)\n\u001b[0;32m   1699\u001b[0m \u001b[39mfor\u001b[39;00m strat \u001b[39min\u001b[39;00m runstrats:\n\u001b[1;32m-> 1700\u001b[0m     strat\u001b[39m.\u001b[39;49m_oncepost(dt0)\n\u001b[0;32m   1701\u001b[0m     \u001b[39mif\u001b[39;00m \u001b[39mself\u001b[39m\u001b[39m.\u001b[39m_event_stop:  \u001b[39m# stop if requested\u001b[39;00m\n\u001b[0;32m   1702\u001b[0m         \u001b[39mreturn\u001b[39;00m\n",
      "File \u001b[1;32mc:\\Users\\ntj_0\\Anaconda3\\envs\\qr\\lib\\site-packages\\backtrader\\strategy.py:309\u001b[0m, in \u001b[0;36mStrategy._oncepost\u001b[1;34m(self, dt)\u001b[0m\n\u001b[0;32m    307\u001b[0m minperstatus \u001b[39m=\u001b[39m \u001b[39mself\u001b[39m\u001b[39m.\u001b[39m_getminperstatus()\n\u001b[0;32m    308\u001b[0m \u001b[39mif\u001b[39;00m minperstatus \u001b[39m<\u001b[39m \u001b[39m0\u001b[39m:\n\u001b[1;32m--> 309\u001b[0m     \u001b[39mself\u001b[39;49m\u001b[39m.\u001b[39;49mnext()\n\u001b[0;32m    310\u001b[0m \u001b[39melif\u001b[39;00m minperstatus \u001b[39m==\u001b[39m \u001b[39m0\u001b[39m:\n\u001b[0;32m    311\u001b[0m     \u001b[39mself\u001b[39m\u001b[39m.\u001b[39mnextstart()  \u001b[39m# only called for the 1st value\u001b[39;00m\n",
      "Cell \u001b[1;32mIn[11], line 16\u001b[0m, in \u001b[0;36mSmaCross.next\u001b[1;34m(self)\u001b[0m\n\u001b[0;32m     14\u001b[0m \u001b[39mif\u001b[39;00m \u001b[39mnot\u001b[39;00m \u001b[39mself\u001b[39m\u001b[39m.\u001b[39mposition:  \u001b[39m# not in the market\u001b[39;00m\n\u001b[0;32m     15\u001b[0m     \u001b[39mif\u001b[39;00m \u001b[39mself\u001b[39m\u001b[39m.\u001b[39mcrossover \u001b[39m>\u001b[39m \u001b[39m0\u001b[39m:  \u001b[39m# if fast crosses slow to the upside\u001b[39;00m\n\u001b[1;32m---> 16\u001b[0m         \u001b[39mself\u001b[39;49m\u001b[39m.\u001b[39;49mlog(\u001b[39mf\u001b[39m\u001b[39m\"\u001b[39m\u001b[39mBUY at \u001b[39m\u001b[39m{\u001b[39;00m\u001b[39mself\u001b[39m\u001b[39m.\u001b[39mdata\u001b[39m.\u001b[39mclose\u001b[39m}\u001b[39;00m\u001b[39m\"\u001b[39m)\n\u001b[0;32m     17\u001b[0m         \u001b[39mself\u001b[39m\u001b[39m.\u001b[39mbuy()  \u001b[39m# enter long\u001b[39;00m\n\u001b[0;32m     19\u001b[0m \u001b[39melif\u001b[39;00m \u001b[39mself\u001b[39m\u001b[39m.\u001b[39mcrossover \u001b[39m<\u001b[39m \u001b[39m0\u001b[39m:  \u001b[39m# in the market & cross to the downside\u001b[39;00m\n",
      "File \u001b[1;32mc:\\Users\\ntj_0\\Anaconda3\\envs\\qr\\lib\\site-packages\\backtrader\\lineseries.py:461\u001b[0m, in \u001b[0;36mLineSeries.__getattr__\u001b[1;34m(self, name)\u001b[0m\n\u001b[0;32m    457\u001b[0m \u001b[39mdef\u001b[39;00m \u001b[39m__getattr__\u001b[39m(\u001b[39mself\u001b[39m, name):\n\u001b[0;32m    458\u001b[0m     \u001b[39m# to refer to line by name directly if the attribute was not found\u001b[39;00m\n\u001b[0;32m    459\u001b[0m     \u001b[39m# in this object if we set an attribute in this object it will be\u001b[39;00m\n\u001b[0;32m    460\u001b[0m     \u001b[39m# found before we end up here\u001b[39;00m\n\u001b[1;32m--> 461\u001b[0m     \u001b[39mreturn\u001b[39;00m \u001b[39mgetattr\u001b[39;49m(\u001b[39mself\u001b[39;49m\u001b[39m.\u001b[39;49mlines, name)\n",
      "\u001b[1;31mAttributeError\u001b[0m: 'Lines_LineSeries_LineIterator_DataAccessor_Strateg' object has no attribute 'log'"
     ]
    }
   ],
   "source": [
    "from IPython.display import clear_output\n",
    "\n",
    "\n",
    "max_value = 0\n",
    "opt_slow = 0\n",
    "opt_fast = 0\n",
    "\n",
    "for pfast in range(7, 13, 2):\n",
    "    for pslow in range(24, 34, 4):\n",
    "        cerebro = bt.Cerebro()\n",
    "        cerebro.addwriter(bt.WriterFile)\n",
    "        cerebro.addstrategy(SmaCross, pfast, pslow)\n",
    "\n",
    "        data = bt.feeds.PandasData(\n",
    "            dataname=df,\n",
    "            timeframe=bt.TimeFrame.Minutes,\n",
    "            compression=60,\n",
    "        )\n",
    "\n",
    "        cerebro.adddata(data)\n",
    "        result = cerebro.run()\n",
    "\n",
    "        value = cerebro.broker.get_value()\n",
    "        if value > max_value:\n",
    "            max_value = value\n",
    "            opt_fast = pfast\n",
    "            opt_slow = pslow\n",
    "            \n",
    "        clear_output()\n",
    "        print(f\"{pfast}-{pslow} -> {value}, max={max_value}\")"
   ]
  },
  {
   "cell_type": "code",
   "execution_count": 10,
   "metadata": {},
   "outputs": [
    {
     "data": {
      "text/plain": [
       "9959.075073242188"
      ]
     },
     "execution_count": 10,
     "metadata": {},
     "output_type": "execute_result"
    }
   ],
   "source": [
    "max_value"
   ]
  },
  {
   "cell_type": "code",
   "execution_count": null,
   "metadata": {},
   "outputs": [
    {
     "data": {
      "text/plain": [
       "[[<Figure size 3840x1955 with 5 Axes>]]"
      ]
     },
     "execution_count": 41,
     "metadata": {},
     "output_type": "execute_result"
    }
   ],
   "source": [
    "cerebro.plot(\n",
    "    iplot=False,\n",
    "    #  Format string for the display of ticks on the x axis\n",
    "    fmt_x_ticks=\"%Y-%b-%d %H:%M\",\n",
    "    # Format string for the display of data points values\n",
    "    fmt_x_data=\"%Y-%b-%d %H:%M\",\n",
    ")\n"
   ]
  },
  {
   "cell_type": "code",
   "execution_count": null,
   "metadata": {},
   "outputs": [],
   "source": []
  }
 ],
 "metadata": {
  "kernelspec": {
   "display_name": "qr",
   "language": "python",
   "name": "python3"
  },
  "language_info": {
   "codemirror_mode": {
    "name": "ipython",
    "version": 3
   },
   "file_extension": ".py",
   "mimetype": "text/x-python",
   "name": "python",
   "nbconvert_exporter": "python",
   "pygments_lexer": "ipython3",
   "version": "3.10.12"
  },
  "orig_nbformat": 4
 },
 "nbformat": 4,
 "nbformat_minor": 2
}
