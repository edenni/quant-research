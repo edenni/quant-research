{
 "cells": [
  {
   "cell_type": "code",
   "execution_count": null,
   "metadata": {},
   "outputs": [],
   "source": [
    "from alpaca.data.historical import StockHistoricalDataClient\n",
    "from alpaca.data.requests import StockBarsRequest, StockSnapshotRequest, StockTradesRequest\n",
    "from alpaca.data.timeframe import TimeFrame\n",
    "from datetime import datetime\n"
   ]
  },
  {
   "cell_type": "code",
   "execution_count": null,
   "metadata": {},
   "outputs": [],
   "source": [
    "bar_request = StockBarsRequest(\n",
    "    symbol_or_symbols=[\"AAPL\", \"MSFT\"],\n",
    "    timeframe=TimeFrame.Hour,\n",
    "    start=datetime(2023, 1, 1),\n",
    "    end=datetime(2024, 1, 1)\n",
    ")\n",
    "\n",
    "snapshot_request = StockSnapshotRequest(\n",
    "    symbol_or_symbols=[\"AAPL\", \"MSFT\"],\n",
    ")\n",
    "\n",
    "trade_request = StockTradesRequest(\n",
    "    symbol_or_symbols=[\"AAPL\", \"MSFT\"],\n",
    "    start=datetime(2023, 12, 15),\n",
    "    end=datetime(2024, 1, 1),\n",
    ")"
   ]
  },
  {
   "cell_type": "code",
   "execution_count": null,
   "metadata": {},
   "outputs": [],
   "source": [
    "client = StockHistoricalDataClient(\n",
    "    api_key=\"PK7JQIBY2KLLXHA1DAIG\",\n",
    "    secret_key=\"Z8gRZ3xOoh9TGCRaghoawjz0kdQgpckXquCqF7rc\",\n",
    ")\n",
    "\n",
    "stock_bars = client.get_stock_bars(bar_request)"
   ]
  },
  {
   "cell_type": "code",
   "execution_count": null,
   "metadata": {},
   "outputs": [],
   "source": [
    "stock_snapshots = client.get_stock_snapshot(snapshot_request)"
   ]
  },
  {
   "cell_type": "code",
   "execution_count": null,
   "metadata": {},
   "outputs": [],
   "source": [
    "stock_trade = client.get_stock_trades(trade_request)"
   ]
  },
  {
   "cell_type": "code",
   "execution_count": null,
   "metadata": {},
   "outputs": [],
   "source": [
    "stock_trade"
   ]
  }
 ],
 "metadata": {
  "kernelspec": {
   "display_name": "qr",
   "language": "python",
   "name": "python3"
  },
  "language_info": {
   "codemirror_mode": {
    "name": "ipython",
    "version": 3
   },
   "file_extension": ".py",
   "mimetype": "text/x-python",
   "name": "python",
   "nbconvert_exporter": "python",
   "pygments_lexer": "ipython3",
   "version": "3.10.12"
  }
 },
 "nbformat": 4,
 "nbformat_minor": 2
}
