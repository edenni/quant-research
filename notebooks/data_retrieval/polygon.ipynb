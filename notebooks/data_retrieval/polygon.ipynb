{
 "cells": [
  {
   "cell_type": "code",
   "execution_count": null,
   "metadata": {},
   "outputs": [],
   "source": [
    "import dotenv\n",
    "from polygon import RESTClient"
   ]
  },
  {
   "cell_type": "code",
   "execution_count": null,
   "metadata": {},
   "outputs": [],
   "source": [
    "api_key = dotenv.get_key(dotenv.find_dotenv(), 'POLYGON_KEY')"
   ]
  },
  {
   "cell_type": "code",
   "execution_count": null,
   "metadata": {},
   "outputs": [],
   "source": [
    "client = RESTClient(api_key=api_key)"
   ]
  },
  {
   "cell_type": "code",
   "execution_count": null,
   "metadata": {},
   "outputs": [],
   "source": [
    "ticker = \"AAPL\"\n",
    "\n",
    "# List Aggregates (Bars)\n",
    "aggs = []\n",
    "for a in client.list_aggs(\n",
    "    ticker=ticker,\n",
    "    multiplier=1,\n",
    "    timespan=\"minute\",\n",
    "    from_=\"2023-01-01\",\n",
    "    to=\"2023-06-13\",\n",
    "    limit=50000\n",
    "):\n",
    "    aggs.append(a)\n",
    "\n",
    "print(aggs)\n",
    "\n",
    "# Get Last Trade\n",
    "trade = client.get_last_trade(ticker=ticker)\n",
    "print(trade)\n",
    "\n",
    "\n",
    "\n",
    "# Get Last Quote\n",
    "quote = client.get_last_quote(ticker=ticker)\n",
    "print(quote)\n",
    "\n",
    "# List Quotes\n",
    "quotes = client.list_quotes(ticker=ticker, timestamp=\"2022-01-04\")\n",
    "for quote in quotes:\n",
    "    print(quote)"
   ]
  },
  {
   "cell_type": "code",
   "execution_count": null,
   "metadata": {},
   "outputs": [],
   "source": [
    "# List Trades\n",
    "trades = client.list_trades(ticker=ticker, timestamp=\"2022-01-04\")\n",
    "for trade in trades:\n",
    "    print(trade)"
   ]
  },
  {
   "cell_type": "code",
   "execution_count": null,
   "metadata": {},
   "outputs": [],
   "source": [
    "financials = []\n",
    "for f in client.vx.list_stock_financials(\"AAPL\"):\n",
    "    financials.append(f)\n",
    "print(financials)"
   ]
  }
 ],
 "metadata": {
  "kernelspec": {
   "display_name": "qr",
   "language": "python",
   "name": "python3"
  },
  "language_info": {
   "codemirror_mode": {
    "name": "ipython",
    "version": 3
   },
   "file_extension": ".py",
   "mimetype": "text/x-python",
   "name": "python",
   "nbconvert_exporter": "python",
   "pygments_lexer": "ipython3",
   "version": "3.10.12"
  }
 },
 "nbformat": 4,
 "nbformat_minor": 2
}
